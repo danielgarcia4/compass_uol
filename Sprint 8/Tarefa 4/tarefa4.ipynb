{
  "nbformat": 4,
  "nbformat_minor": 0,
  "metadata": {
    "colab": {
      "provenance": []
    },
    "kernelspec": {
      "name": "python3",
      "display_name": "Python 3"
    },
    "language_info": {
      "name": "python"
    }
  },
  "cells": [
    {
      "cell_type": "markdown",
      "source": [
        "#1)"
      ],
      "metadata": {
        "id": "81VFMkOXTJlx"
      }
    },
    {
      "cell_type": "code",
      "source": [
        "pip install pyspark"
      ],
      "metadata": {
        "colab": {
          "base_uri": "https://localhost:8080/"
        },
        "id": "RX6nU0HnRWf_",
        "outputId": "84d5dcc7-0f5b-4622-c6c4-1063045b6b6c"
      },
      "execution_count": 1,
      "outputs": [
        {
          "output_type": "stream",
          "name": "stdout",
          "text": [
            "Collecting pyspark\n",
            "  Downloading pyspark-3.5.0.tar.gz (316.9 MB)\n",
            "\u001b[2K     \u001b[90m━━━━━━━━━━━━━━━━━━━━━━━━━━━━━━━━━━━━━━━━\u001b[0m \u001b[32m316.9/316.9 MB\u001b[0m \u001b[31m4.6 MB/s\u001b[0m eta \u001b[36m0:00:00\u001b[0m\n",
            "\u001b[?25h  Preparing metadata (setup.py) ... \u001b[?25l\u001b[?25hdone\n",
            "Requirement already satisfied: py4j==0.10.9.7 in /usr/local/lib/python3.10/dist-packages (from pyspark) (0.10.9.7)\n",
            "Building wheels for collected packages: pyspark\n",
            "  Building wheel for pyspark (setup.py) ... \u001b[?25l\u001b[?25hdone\n",
            "  Created wheel for pyspark: filename=pyspark-3.5.0-py2.py3-none-any.whl size=317425344 sha256=9b9775c4e287fe4bf268c99a84930b9bd928ab3b2a4f7e3a0f6f64077ddf481c\n",
            "  Stored in directory: /root/.cache/pip/wheels/41/4e/10/c2cf2467f71c678cfc8a6b9ac9241e5e44a01940da8fbb17fc\n",
            "Successfully built pyspark\n",
            "Installing collected packages: pyspark\n",
            "Successfully installed pyspark-3.5.0\n"
          ]
        }
      ]
    },
    {
      "cell_type": "code",
      "execution_count": 2,
      "metadata": {
        "id": "UTZ4y26lRQPq"
      },
      "outputs": [],
      "source": [
        "from pyspark.sql import SparkSession\n",
        "from pyspark import SparkContext, SQLContext\n",
        "from pyspark.sql.functions import when, rand, expr\n",
        "import random"
      ]
    },
    {
      "cell_type": "code",
      "source": [
        "spark = SparkSession\\\n",
        "        .builder.master(\"local[*]\")\\\n",
        "        .appName(\"Exercicio Intro\")\\\n",
        "        .getOrCreate()"
      ],
      "metadata": {
        "id": "nOktxFP_RSf5"
      },
      "execution_count": 3,
      "outputs": []
    },
    {
      "cell_type": "code",
      "source": [
        "df_nomes = spark.read.csv(\"nomes_aleatorios.txt\", header=False)"
      ],
      "metadata": {
        "id": "OOkCjl4TRuU0"
      },
      "execution_count": 4,
      "outputs": []
    },
    {
      "cell_type": "code",
      "source": [
        "df_nomes.show(5)"
      ],
      "metadata": {
        "colab": {
          "base_uri": "https://localhost:8080/"
        },
        "id": "kKihuvDzR-1J",
        "outputId": "4c1573ce-9037-48c2-ba42-850c297333bb"
      },
      "execution_count": 5,
      "outputs": [
        {
          "output_type": "stream",
          "name": "stdout",
          "text": [
            "+----------------+\n",
            "|             _c0|\n",
            "+----------------+\n",
            "|  Frances Bennet|\n",
            "|   Jamie Russell|\n",
            "|  Edward Kistler|\n",
            "|   Sheila Maurer|\n",
            "|Donald Golightly|\n",
            "+----------------+\n",
            "only showing top 5 rows\n",
            "\n"
          ]
        }
      ]
    },
    {
      "cell_type": "markdown",
      "source": [
        "#2)"
      ],
      "metadata": {
        "id": "FUW7UrrvTaD-"
      }
    },
    {
      "cell_type": "code",
      "source": [
        "df_nomes.printSchema()"
      ],
      "metadata": {
        "colab": {
          "base_uri": "https://localhost:8080/"
        },
        "id": "wi0om8XmSGvG",
        "outputId": "6a7099be-47cd-4b26-d7eb-d9a9285b1880"
      },
      "execution_count": 6,
      "outputs": [
        {
          "output_type": "stream",
          "name": "stdout",
          "text": [
            "root\n",
            " |-- _c0: string (nullable = true)\n",
            "\n"
          ]
        }
      ]
    },
    {
      "cell_type": "code",
      "source": [
        "df_nomes = df_nomes.withColumnRenamed(\"_c0\", \"Nomes\")"
      ],
      "metadata": {
        "id": "If813Bl2S15e"
      },
      "execution_count": 7,
      "outputs": []
    },
    {
      "cell_type": "code",
      "source": [
        "df_nomes.printSchema()"
      ],
      "metadata": {
        "colab": {
          "base_uri": "https://localhost:8080/"
        },
        "id": "OzCs8Uw_S3bn",
        "outputId": "530df18d-1e4c-4f97-8578-5528cffd06ac"
      },
      "execution_count": 8,
      "outputs": [
        {
          "output_type": "stream",
          "name": "stdout",
          "text": [
            "root\n",
            " |-- Nomes: string (nullable = true)\n",
            "\n"
          ]
        }
      ]
    },
    {
      "cell_type": "code",
      "source": [
        "df_nomes.show(10)"
      ],
      "metadata": {
        "colab": {
          "base_uri": "https://localhost:8080/"
        },
        "id": "AI34qTEJTCs1",
        "outputId": "2a19393e-ae00-4fa4-8a10-884a9681a296"
      },
      "execution_count": 9,
      "outputs": [
        {
          "output_type": "stream",
          "name": "stdout",
          "text": [
            "+-----------------+\n",
            "|            Nomes|\n",
            "+-----------------+\n",
            "|   Frances Bennet|\n",
            "|    Jamie Russell|\n",
            "|   Edward Kistler|\n",
            "|    Sheila Maurer|\n",
            "| Donald Golightly|\n",
            "|       David Gray|\n",
            "|      Joy Bennett|\n",
            "|      Paul Kriese|\n",
            "|Berniece Ornellas|\n",
            "|    Brian Farrell|\n",
            "+-----------------+\n",
            "only showing top 10 rows\n",
            "\n"
          ]
        }
      ]
    },
    {
      "cell_type": "markdown",
      "source": [
        "# 3)"
      ],
      "metadata": {
        "id": "YB_gReQFZiVL"
      }
    },
    {
      "cell_type": "code",
      "source": [
        "df_nomes = df_nomes.withColumn(\"Escolaridade\", when(rand() < 1/3, \"Fundamental\")\n",
        ".when(rand() < 2/3, \"Médio\").otherwise(\"Superior\"))"
      ],
      "metadata": {
        "id": "wOXa4hk2TfVZ"
      },
      "execution_count": 17,
      "outputs": []
    },
    {
      "cell_type": "code",
      "source": [
        "df_nomes.show(10)"
      ],
      "metadata": {
        "id": "-hQR2mkpWXdf",
        "colab": {
          "base_uri": "https://localhost:8080/"
        },
        "outputId": "84b3d714-d1bc-46c8-9267-32fe09251eb5"
      },
      "execution_count": 18,
      "outputs": [
        {
          "output_type": "stream",
          "name": "stdout",
          "text": [
            "+-----------------+------------+\n",
            "|            Nomes|Escolaridade|\n",
            "+-----------------+------------+\n",
            "|   Frances Bennet| Fundamental|\n",
            "|    Jamie Russell|       Médio|\n",
            "|   Edward Kistler|       Médio|\n",
            "|    Sheila Maurer|       Médio|\n",
            "| Donald Golightly|    Superior|\n",
            "|       David Gray|       Médio|\n",
            "|      Joy Bennett| Fundamental|\n",
            "|      Paul Kriese| Fundamental|\n",
            "|Berniece Ornellas|    Superior|\n",
            "|    Brian Farrell| Fundamental|\n",
            "+-----------------+------------+\n",
            "only showing top 10 rows\n",
            "\n"
          ]
        }
      ]
    },
    {
      "cell_type": "markdown",
      "source": [
        "# 4)"
      ],
      "metadata": {
        "id": "zO8eOTWrZvEJ"
      }
    },
    {
      "cell_type": "code",
      "source": [
        "paises = ['Argentina', 'Bolívia', 'Brasil',\n",
        "          'Chile', 'Colômbia', 'Equador',\n",
        "          'Guiana', 'Guiana Francesa', 'Paraguai', 'Peru',\n",
        "          'Suriname', 'Uruguai', 'Venezuela']"
      ],
      "metadata": {
        "id": "pKPdB7NmaNw0"
      },
      "execution_count": 19,
      "outputs": []
    },
    {
      "cell_type": "code",
      "source": [
        "df_nomes = df_nomes.withColumn(\"Pais\",\n",
        "    when(rand() < 1/13, \"Brasil\")\n",
        "    .when(rand() < 2/13, \"Argentina\")\n",
        "    .when(rand() < 3/13, \"Chile\")\n",
        "    .when(rand() < 4/13, \"Colômbia\")\n",
        "    .when(rand() < 5/13, \"Equador\")\n",
        "    .when(rand() < 6/13, \"Peru\")\n",
        "    .when(rand() < 7/13, \"Venezuela\")\n",
        "    .when(rand() < 8/13, \"Uruguai\")\n",
        "    .when(rand() < 9/13, \"Bolívia\")\n",
        "    .when(rand() < 10/13, \"Paraguai\")\n",
        "    .when(rand() < 11/13, \"Suriname\")\n",
        "    .when(rand() < 12/13, \"Guiana\")\n",
        "    .otherwise(\"Guiana Francesa\"))"
      ],
      "metadata": {
        "id": "GD14ZSiibiOi"
      },
      "execution_count": 20,
      "outputs": []
    },
    {
      "cell_type": "code",
      "source": [
        "df_nomes.show(10)"
      ],
      "metadata": {
        "colab": {
          "base_uri": "https://localhost:8080/"
        },
        "id": "vA-175yScoEr",
        "outputId": "858431e5-d7a0-49bb-a5aa-c7d2198e4c04"
      },
      "execution_count": 21,
      "outputs": [
        {
          "output_type": "stream",
          "name": "stdout",
          "text": [
            "+-----------------+------------+---------+\n",
            "|            Nomes|Escolaridade|     Pais|\n",
            "+-----------------+------------+---------+\n",
            "|   Frances Bennet| Fundamental| Colômbia|\n",
            "|    Jamie Russell|       Médio|Argentina|\n",
            "|   Edward Kistler|       Médio|     Peru|\n",
            "|    Sheila Maurer|       Médio|  Equador|\n",
            "| Donald Golightly|    Superior| Colômbia|\n",
            "|       David Gray|       Médio|  Equador|\n",
            "|      Joy Bennett| Fundamental|Argentina|\n",
            "|      Paul Kriese| Fundamental|    Chile|\n",
            "|Berniece Ornellas|    Superior|     Peru|\n",
            "|    Brian Farrell| Fundamental|   Brasil|\n",
            "+-----------------+------------+---------+\n",
            "only showing top 10 rows\n",
            "\n"
          ]
        }
      ]
    },
    {
      "cell_type": "markdown",
      "source": [
        "# 5)"
      ],
      "metadata": {
        "id": "fPrgAMYiZ0w_"
      }
    },
    {
      "cell_type": "code",
      "source": [
        "df_nomes = df_nomes.withColumn(\"AnoNascimento\", expr(\"int(1945 + rand() * 66)\"))"
      ],
      "metadata": {
        "id": "IUpgZLoEielu"
      },
      "execution_count": 22,
      "outputs": []
    },
    {
      "cell_type": "code",
      "source": [
        "df_nomes.show(10)"
      ],
      "metadata": {
        "colab": {
          "base_uri": "https://localhost:8080/"
        },
        "id": "03kqYtrtik9M",
        "outputId": "02250281-033b-4766-d8ee-c1ffb76d21c5"
      },
      "execution_count": 23,
      "outputs": [
        {
          "output_type": "stream",
          "name": "stdout",
          "text": [
            "+-----------------+------------+---------+-------------+\n",
            "|            Nomes|Escolaridade|     Pais|AnoNascimento|\n",
            "+-----------------+------------+---------+-------------+\n",
            "|   Frances Bennet| Fundamental| Colômbia|         1978|\n",
            "|    Jamie Russell|       Médio|Argentina|         2006|\n",
            "|   Edward Kistler|       Médio|     Peru|         1968|\n",
            "|    Sheila Maurer|       Médio|  Equador|         2002|\n",
            "| Donald Golightly|    Superior| Colômbia|         1980|\n",
            "|       David Gray|       Médio|  Equador|         1998|\n",
            "|      Joy Bennett| Fundamental|Argentina|         2007|\n",
            "|      Paul Kriese| Fundamental|    Chile|         1967|\n",
            "|Berniece Ornellas|    Superior|     Peru|         1949|\n",
            "|    Brian Farrell| Fundamental|   Brasil|         1989|\n",
            "+-----------------+------------+---------+-------------+\n",
            "only showing top 10 rows\n",
            "\n"
          ]
        }
      ]
    },
    {
      "cell_type": "markdown",
      "source": [
        "# 6)"
      ],
      "metadata": {
        "id": "jpIBLMR_Z5I7"
      }
    },
    {
      "cell_type": "code",
      "source": [
        "df_select = df_nomes.select(\"*\").filter(df_nomes.AnoNascimento >= 2000)"
      ],
      "metadata": {
        "id": "9BzEce30aROa"
      },
      "execution_count": 26,
      "outputs": []
    },
    {
      "cell_type": "code",
      "source": [
        "df_select.show(10)"
      ],
      "metadata": {
        "colab": {
          "base_uri": "https://localhost:8080/"
        },
        "id": "9iIx9oZibQd9",
        "outputId": "aed24479-5b9e-4cb7-d1c6-2a18d78c7e29"
      },
      "execution_count": 27,
      "outputs": [
        {
          "output_type": "stream",
          "name": "stdout",
          "text": [
            "+---------------+------------+---------+-------------+\n",
            "|          Nomes|Escolaridade|     Pais|AnoNascimento|\n",
            "+---------------+------------+---------+-------------+\n",
            "|  Jamie Russell|       Médio|Argentina|         2006|\n",
            "|  Sheila Maurer|       Médio|  Equador|         2002|\n",
            "|    Joy Bennett| Fundamental|Argentina|         2007|\n",
            "|   Leroy Strahl|       Médio|Argentina|         2010|\n",
            "|   David Medina|       Médio|    Chile|         2010|\n",
            "|    Page Marthe|       Médio|    Chile|         2007|\n",
            "|Helen Blackwell|    Superior| Colômbia|         2000|\n",
            "|   Rebecca Snow| Fundamental|Argentina|         2009|\n",
            "|    Sandra Todd|       Médio|  Uruguai|         2006|\n",
            "| Rosie Lovelady|       Médio|  Equador|         2004|\n",
            "+---------------+------------+---------+-------------+\n",
            "only showing top 10 rows\n",
            "\n"
          ]
        }
      ]
    },
    {
      "cell_type": "markdown",
      "source": [
        "# 7)"
      ],
      "metadata": {
        "id": "RBDDOZ5g1sn-"
      }
    },
    {
      "cell_type": "code",
      "source": [
        "df_nomes.createOrReplaceTempView(\"pessoas\")\n",
        "\n",
        "spark.sql(\"select * from pessoas WHERE AnoNascimento >= 2000 limit 10\").show()\n",
        "\n"
      ],
      "metadata": {
        "colab": {
          "base_uri": "https://localhost:8080/"
        },
        "id": "0tiQVZee1upS",
        "outputId": "0260f7d3-78e0-4368-9bdc-563a378a9302"
      },
      "execution_count": 28,
      "outputs": [
        {
          "output_type": "stream",
          "name": "stdout",
          "text": [
            "+---------------+------------+---------+-------------+\n",
            "|          Nomes|Escolaridade|     Pais|AnoNascimento|\n",
            "+---------------+------------+---------+-------------+\n",
            "|  Jamie Russell|       Médio|Argentina|         2006|\n",
            "|  Sheila Maurer|       Médio|  Equador|         2002|\n",
            "|    Joy Bennett| Fundamental|Argentina|         2007|\n",
            "|   Leroy Strahl|       Médio|Argentina|         2010|\n",
            "|   David Medina|       Médio|    Chile|         2010|\n",
            "|    Page Marthe|       Médio|    Chile|         2007|\n",
            "|Helen Blackwell|    Superior| Colômbia|         2000|\n",
            "|   Rebecca Snow| Fundamental|Argentina|         2009|\n",
            "|    Sandra Todd|       Médio|  Uruguai|         2006|\n",
            "| Rosie Lovelady|       Médio|  Equador|         2004|\n",
            "+---------------+------------+---------+-------------+\n",
            "\n"
          ]
        }
      ]
    },
    {
      "cell_type": "markdown",
      "source": [
        "# 8)"
      ],
      "metadata": {
        "id": "xr-QDH3T2olO"
      }
    },
    {
      "cell_type": "code",
      "source": [
        "df_millennials = df_nomes.select(\"*\").filter((df_nomes.AnoNascimento >= 1980)\n",
        "& (df_nomes.AnoNascimento <= 1994))\n",
        "count_millennials = df_millennials.count()\n",
        "print(count_millennials)"
      ],
      "metadata": {
        "colab": {
          "base_uri": "https://localhost:8080/"
        },
        "id": "4qxo2VAh2rsY",
        "outputId": "d2d42fae-93e3-4f42-e0d4-9bbd790480ec"
      },
      "execution_count": 38,
      "outputs": [
        {
          "output_type": "stream",
          "name": "stdout",
          "text": [
            "441398\n"
          ]
        }
      ]
    },
    {
      "cell_type": "markdown",
      "source": [
        "# 9)"
      ],
      "metadata": {
        "id": "U_chtjK45uHV"
      }
    },
    {
      "cell_type": "code",
      "source": [
        "df_nomes.createOrReplaceTempView(\"pessoas\")\n",
        "\n",
        "query = \"\"\"\n",
        "select count(*) as count\n",
        "from pessoas\n",
        "where AnoNascimento >= 1980 and AnoNascimento <= 1994\n",
        "\"\"\"\n",
        "\n",
        "millennials_count = spark.sql(query)\n",
        "\n",
        "millennials_count.show()\n"
      ],
      "metadata": {
        "colab": {
          "base_uri": "https://localhost:8080/"
        },
        "id": "DjjY59kp5U-i",
        "outputId": "fa38dedc-bea1-415c-91e2-85d59ef45c27"
      },
      "execution_count": 39,
      "outputs": [
        {
          "output_type": "stream",
          "name": "stdout",
          "text": [
            "+------+\n",
            "| count|\n",
            "+------+\n",
            "|441398|\n",
            "+------+\n",
            "\n"
          ]
        }
      ]
    },
    {
      "cell_type": "markdown",
      "source": [
        "# 10)"
      ],
      "metadata": {
        "id": "23DxMQHrGBTx"
      }
    },
    {
      "cell_type": "code",
      "source": [
        "query = \"\"\"\n",
        "SELECT Pais,\n",
        "  CASE\n",
        "    WHEN AnoNascimento BETWEEN 1944 AND 1964 THEN 'Baby Boomers'\n",
        "    WHEN AnoNascimento BETWEEN 1965 AND 1979 THEN 'Geração X'\n",
        "    WHEN AnoNascimento BETWEEN 1980 AND 1994 THEN 'Millennials'\n",
        "    WHEN AnoNascimento BETWEEN 1995 AND 2015 THEN 'Geração Z'\n",
        "  END AS Geracao,\n",
        "  COUNT(*) AS Quantidade\n",
        "FROM pessoas\n",
        "GROUP BY Pais, Geracao\n",
        "ORDER BY Pais, Geracao, Quantidade\n",
        "\"\"\"\n",
        "\n",
        "result_df = spark.sql(query)\n",
        "result_df.show(60)"
      ],
      "metadata": {
        "colab": {
          "base_uri": "https://localhost:8080/"
        },
        "id": "A0L2ylrmGC0d",
        "outputId": "cbcfc2a6-5553-46e4-def1-f745aa2d37fe"
      },
      "execution_count": 50,
      "outputs": [
        {
          "output_type": "stream",
          "name": "stdout",
          "text": [
            "+---------------+------------+----------+\n",
            "|           Pais|     Geracao|Quantidade|\n",
            "+---------------+------------+----------+\n",
            "|      Argentina|Baby Boomers|     83864|\n",
            "|      Argentina|   Geração X|     63177|\n",
            "|      Argentina|   Geração Z|     67143|\n",
            "|      Argentina| Millennials|     62774|\n",
            "|        Bolívia|Baby Boomers|      9975|\n",
            "|        Bolívia|   Geração X|      7479|\n",
            "|        Bolívia|   Geração Z|      7790|\n",
            "|        Bolívia| Millennials|      7382|\n",
            "|         Brasil|Baby Boomers|     45152|\n",
            "|         Brasil|   Geração X|     33547|\n",
            "|         Brasil|   Geração Z|     36373|\n",
            "|         Brasil| Millennials|     33889|\n",
            "|          Chile|Baby Boomers|    105642|\n",
            "|          Chile|   Geração X|     79869|\n",
            "|          Chile|   Geração Z|     84774|\n",
            "|          Chile| Millennials|     79365|\n",
            "|       Colômbia|Baby Boomers|    109348|\n",
            "|       Colômbia|   Geração X|     81962|\n",
            "|       Colômbia|   Geração Z|     86650|\n",
            "|       Colômbia| Millennials|     81709|\n",
            "|        Equador|Baby Boomers|     94216|\n",
            "|        Equador|   Geração X|     70314|\n",
            "|        Equador|   Geração Z|     75367|\n",
            "|        Equador| Millennials|     70552|\n",
            "|         Guiana|Baby Boomers|       148|\n",
            "|         Guiana|   Geração X|       116|\n",
            "|         Guiana|   Geração Z|       136|\n",
            "|         Guiana| Millennials|       104|\n",
            "|Guiana Francesa|Baby Boomers|        20|\n",
            "|Guiana Francesa|   Geração X|         9|\n",
            "|Guiana Francesa|   Geração Z|         4|\n",
            "|Guiana Francesa| Millennials|         9|\n",
            "|       Paraguai|Baby Boomers|      3357|\n",
            "|       Paraguai|   Geração X|      2515|\n",
            "|       Paraguai|   Geração Z|      2755|\n",
            "|       Paraguai| Millennials|      2688|\n",
            "|           Peru|Baby Boomers|     69225|\n",
            "|           Peru|   Geração X|     51981|\n",
            "|           Peru|   Geração Z|     55341|\n",
            "|           Peru| Millennials|     52332|\n",
            "|       Suriname|Baby Boomers|       852|\n",
            "|       Suriname|   Geração X|       681|\n",
            "|       Suriname|   Geração Z|       684|\n",
            "|       Suriname| Millennials|       633|\n",
            "|        Uruguai|Baby Boomers|     23060|\n",
            "|        Uruguai|   Geração X|     17265|\n",
            "|        Uruguai|   Geração Z|     18267|\n",
            "|        Uruguai| Millennials|     17308|\n",
            "|      Venezuela|Baby Boomers|     43334|\n",
            "|      Venezuela|   Geração X|     32862|\n",
            "|      Venezuela|   Geração Z|     34942|\n",
            "|      Venezuela| Millennials|     32653|\n",
            "+---------------+------------+----------+\n",
            "\n"
          ]
        }
      ]
    }
  ]
}